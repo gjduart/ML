{
 "cells": [
  {
   "cell_type": "markdown",
   "metadata": {},
   "source": [
    "<h1>Redes RBF - Exercicio</h1>"
   ]
  },
  {
   "cell_type": "code",
   "execution_count": 5,
   "metadata": {},
   "outputs": [
    {
     "name": "stdout",
     "output_type": "stream",
     "text": [
      "tensor(32.7999, dtype=torch.float64)\n"
     ]
    }
   ],
   "source": [
    "import pandas as pd\n",
    "from pandas import read_csv\n",
    "import matplotlib.pyplot as plt\n",
    "import numpy as np\n",
    "import torch\n",
    "\n",
    "\n",
    "from sklearn.datasets import load_boston\n",
    "boston = load_boston()\n",
    "values_X = pd.DataFrame(load_boston().data, columns = boston.feature_names).values # importando as 13 variáveis\n",
    "values_Y = pd.DataFrame(boston.target).values #importando valores medios das casas ocupadas\n",
    "\n",
    "#Calculando a porcentagem do dataset que virá ser utilizado\n",
    "aux = values_X[:,1].shape\n",
    "N_total = aux[0]\n",
    "N = int(.8*N_total)\n",
    "\n",
    "#Pegando N linhas e atriuindo a uma varivel para treinamento\n",
    "x = values_X[:N,:]\n",
    "y_train = torch.from_numpy(values_Y[:N,:])\n",
    "bias = np.ones(y_train.shape)\n",
    "x_train= torch.from_numpy(np.concatenate((bias,x), axis=1))\n",
    "\n",
    "#Pegando o linhas a partir de N para variaveis de test\n",
    "test_y = torch.from_numpy(values_Y[N:,:])\n",
    "test_y.shape\n",
    "biasTest = np.ones(test_y.shape)\n",
    "values_testX = values_X[N:,:]\n",
    "test_X = torch.from_numpy(np.concatenate((biasTest,values_testX), axis=1))\n",
    "\n",
    "#Treinamento da regressão\n",
    "theta = torch.inverse(x_train.T @ x_train) @ x_train.T @ y_train\n",
    "test = test_X @ theta #Teste\n",
    "error = torch.mean((test_y - test )**2)#Calculo do erro quadratico medio\n",
    "\n",
    "print(error)"
   ]
  },
  {
   "cell_type": "markdown",
   "metadata": {},
   "source": [
    "<h4>Para implementacao do RBF primeiro escolhemos aleatoriamente os Centroides </h4> "
   ]
  },
  {
   "cell_type": "markdown",
   "metadata": {},
   "source": [
    "$$ X = \\boxed{x^T_1\\\\x^T_2\\\\x^T_3\\\\\\vdots\\\\x^T_n} \\Longrightarrow C = \\boxed{x^T_1\\\\x^T_4\\\\\\vdots\\\\x^T_m} \\Longrightarrow C = \\boxed{c^T_1\\\\c^T_4\\\\\\vdots\\\\c^T_m}_m\\\\Levando\\ em\\ conta\\ que\\ m<n$$"
   ]
  },
  {
   "cell_type": "markdown",
   "metadata": {},
   "source": [
    "<h4>Formando minha matriz Z</h4>"
   ]
  },
  {
   "cell_type": "markdown",
   "metadata": {},
   "source": [
    "$$Z = \\begin{bmatrix}\n",
    "||\\vec x_1-\\vec c_1||^2 && ||\\vec x_1-\\vec c_2||^2  && \\cdots && ||\\vec x_1-\\vec c_m||^2\\\\\n",
    "||\\vec x_2-\\vec c_1||^2  && ||\\vec x_2-\\vec c_2||^2  && \\cdots && ||\\vec x_2-\\vec c_m||^2\\\\ \n",
    "\\vdots && \\vdots && \\cdots && \\vdots \\\\\n",
    "||\\vec x_n-\\vec c_1||^2 && ||\\vec x_n-\\vec c_2||^2  && \\cdots && ||\\vec x_n-\\vec c_m||^2\n",
    "\\end{bmatrix}_{NxM}$$"
   ]
  },
  {
   "cell_type": "markdown",
   "metadata": {},
   "source": [
    " $$\\tilde{Z} \\leftarrow exp \t\\left \\{ -\\gamma Z\\right \\} $$"
   ]
  },
  {
   "cell_type": "markdown",
   "metadata": {},
   "source": [
    "# <h4>Aplicando modelo linear<h4>"
   ]
  },
  {
   "cell_type": "markdown",
   "metadata": {},
   "source": [
    "$$\\hat{\\vec \\theta_{LS}} = (\\tilde{Z}^T\\tilde{Z})^{-1}\\tilde{Z}\\vec y $$"
   ]
  },
  {
   "cell_type": "code",
   "execution_count": 90,
   "metadata": {},
   "outputs": [
    {
     "name": "stdout",
     "output_type": "stream",
     "text": [
      "torch.Size([404, 80])\n"
     ]
    }
   ],
   "source": [
    "from numpy import random\n",
    "numero_centroides = random.randint(N ,size=int(.2*N))\n",
    "C = x[numero_centroides]\n",
    "\n",
    "gamma = 1e-3\n",
    "Z = torch.cdist(torch.from_numpy(x),torch.from_numpy(C))\n",
    "Z = Z**2\n",
    "kernel = torch.exp(-gamma*Z)\n",
    "kernel.shape\n",
    "kernel\n",
    "boolBias = False\n"
   ]
  },
  {
   "cell_type": "code",
   "execution_count": 93,
   "metadata": {},
   "outputs": [
    {
     "data": {
      "text/plain": [
       "torch.Size([81, 1])"
      ]
     },
     "execution_count": 93,
     "metadata": {},
     "output_type": "execute_result"
    }
   ],
   "source": [
    "aux = kernel[:,1].shape\n",
    "N_linhas_Bias = aux[0]\n",
    "\n",
    "if(boolBias==False):\n",
    "    Bias_RBF = torch.ones(N_linhas_Bias).reshape(-1,1)\n",
    "    kernel = torch.cat((Bias_RBF,kernel),1)\n",
    "    boolBias=True\n",
    "    \n",
    "theta_LS = torch.inverse(kernel.T @ kernel) @ kernel.T @ y_train\n",
    "theta_LS.shape"
   ]
  },
  {
   "cell_type": "code",
   "execution_count": 92,
   "metadata": {},
   "outputs": [
    {
     "data": {
      "text/plain": [
       "torch.Size([102, 20])"
      ]
     },
     "execution_count": 92,
     "metadata": {},
     "output_type": "execute_result"
    }
   ],
   "source": [
    "aux = values_testX[:,1].shape\n",
    "N_linhas_bias_teste = aux[0]\n",
    "centroides_teste = random.randint(N_linhas_bias_teste ,size=int(.2*N_linhas_bias_teste))\n",
    "centroides = values_testX[centroides_teste]\n",
    "Z_teste = torch.cdist(torch.from_numpy(values_testX),torch.from_numpy(centroides))\n",
    "Z_teste = Z_teste**2 \n",
    "dataTest = torch.exp(-gamma*Z_teste)\n",
    "dataTest.shape\n",
    "#teste = datdaTest @ theta_LS"
   ]
  },
  {
   "cell_type": "code",
   "execution_count": null,
   "metadata": {},
   "outputs": [],
   "source": []
  },
  {
   "cell_type": "code",
   "execution_count": null,
   "metadata": {},
   "outputs": [],
   "source": []
  },
  {
   "cell_type": "code",
   "execution_count": null,
   "metadata": {},
   "outputs": [],
   "source": []
  }
 ],
 "metadata": {
  "kernelspec": {
   "display_name": "Python 3",
   "language": "python",
   "name": "python3"
  },
  "language_info": {
   "codemirror_mode": {
    "name": "ipython",
    "version": 3
   },
   "file_extension": ".py",
   "mimetype": "text/x-python",
   "name": "python",
   "nbconvert_exporter": "python",
   "pygments_lexer": "ipython3",
   "version": "3.8.3"
  }
 },
 "nbformat": 4,
 "nbformat_minor": 4
}
